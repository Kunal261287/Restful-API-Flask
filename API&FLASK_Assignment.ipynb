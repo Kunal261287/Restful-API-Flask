{
 "cells": [
  {
   "cell_type": "markdown",
   "id": "5b902215-dec3-4de8-a2ab-188ffd8404f8",
   "metadata": {},
   "source": [
    "1. What is a RESTful API?\n",
    "   --> A RESTful API (Representational State Transfer API) is a type of web API that follows the principles of REST architecture, which is a set of design rules for creating scalable, maintainable web services."
   ]
  },
  {
   "cell_type": "markdown",
   "id": "79a44eda-22d6-4483-b940-0fe804591d01",
   "metadata": {},
   "source": [
    "2. Explain the concept of API specification.\n",
    "   --> The concept of an API specification refers to a detailed, structured document or definition that describes how an API works — what endpoints are available, what data can be sent or received, and what responses to expect. It acts like a blueprint or contract between the API provider and the consumer (typically developers)."
   ]
  },
  {
   "cell_type": "markdown",
   "id": "3f1b8942-2c0a-4bcd-89b3-ff6a4817bd7f",
   "metadata": {},
   "source": [
    "3. What is Flask, and why is it popular for building APIs?\n",
    "   --> Flask is a micro web framework written in Python that is widely used for building web applications and RESTful APIs. It is called a micro framework because it provides the essential tools to build web apps but leaves out things like form validation, database abstraction, and authentication by default — giving developers the flexibility to add only what they need."
   ]
  },
  {
   "cell_type": "markdown",
   "id": "8fd2ddc7-7b9d-4b88-bb20-a51baf21143a",
   "metadata": {},
   "source": [
    "4. What is routing in Flask?\n",
    "   --> Routing in Flask is the mechanism by which you define how your Flask application responds to different URL paths and HTTP methods. It tells the app what to do when someone visits a specific URL or sends a request to a specific endpoint."
   ]
  },
  {
   "cell_type": "markdown",
   "id": "b98260c2-fc3e-4afd-8bcf-891005cdb594",
   "metadata": {},
   "source": [
    "5. How do you create a simple Flask application?\n",
    "   --> Creating a simple Flask application is easy and quick. Here's a step-by-step guide to help you build a basic app from scratch.\n",
    "\n",
    "   Step\tDescription\n",
    "1. Install\tpip install flask\n",
    "2. Create\tWrite app.py with basic routes\n",
    "3. Run\t    python app.py\n",
    "4. Access\tVisit http://127.0.0.1:5000/"
   ]
  },
  {
   "cell_type": "markdown",
   "id": "05d99553-6642-4b54-9eb4-428c3545c040",
   "metadata": {},
   "source": [
    "6. What are HTTP methods used in RESTful APIs?\n",
    "   --> GET: Read data (e.g., get a list of users or details of one user).\n",
    "\n",
    "POST: Create new data (e.g., add a new user).\n",
    "\n",
    "PUT: Update or replace a resource entirely (e.g., update user info fully).\n",
    "\n",
    "PATCH: Update part of a resource (e.g., change just the email of a user).\n",
    "\n",
    "DELETE: Remove a resource (e.g., delete a user).\n",
    "\n",
    "These methods correspond to CRUD operations (Create, Read, Update, Delete) commonly used in databases and APIs."
   ]
  },
  {
   "cell_type": "markdown",
   "id": "1c31c73e-6e6e-41b8-a705-7b81f42cde9e",
   "metadata": {},
   "source": [
    "7. What is the purpose of the @app.route() decorator in Flask?\n",
    "   --> The @app.route() decorator in Flask is used to bind a URL path to a Python function (called a view function or route handler).\n",
    "\n",
    "   Purpose of @app.route()\n",
    "It maps a specific URL (route) to the function that should be executed when that URL is accessed.\n",
    "\n",
    "Defines the endpoint in your web app or API.\n",
    "\n",
    "Allows you to specify which HTTP methods the route responds to (like GET, POST, etc.)."
   ]
  },
  {
   "cell_type": "markdown",
   "id": "da3e0470-f686-4ca7-a27e-658e9bb8beb6",
   "metadata": {},
   "source": [
    "8. What is the difference between GET and POST HTTP methods?\n",
    "   -->\n",
    "   | Feature         | GET                   | POST                    |\n",
    "| --------------- | --------------------- | ----------------------- |\n",
    "| Data location   | URL query string      | Request body            |\n",
    "| Use case        | Fetch/read data       | Create/update data      |\n",
    "| Idempotent      | Yes                   | No                      |\n",
    "| Data visibility | Visible in URL        | Not visible in URL      |\n",
    "| Size limits     | Limited by URL length | Generally no size limit |\n",
    "| Caching         | Can be cached         | Usually not cached      |\n"
   ]
  },
  {
   "cell_type": "markdown",
   "id": "7daeefc4-a094-4969-8e45-3406a2f9d37a",
   "metadata": {},
   "source": [
    "9. How do you handle errors in Flask APIs?\n",
    "    --> Great question! Handling errors properly in Flask APIs helps you provide meaningful feedback to clients and keep your API robust.\n",
    "\n",
    "   | Technique            | Purpose                         |\n",
    "| -------------------- | ------------------------------- |\n",
    "| HTTP status codes    | Indicate success or failure     |\n",
    "| JSON error responses | Provide machine-readable errors |\n",
    "| `@app.errorhandler`  | Centralize error handling       |\n",
    "| Try-except blocks    | Catch specific exceptions       |\n"
   ]
  },
  {
   "cell_type": "markdown",
   "id": "f4531b01-9cf9-452b-8403-bc614dad641c",
   "metadata": {},
   "source": [
    "10. How do you connect Flask to a SQL database?\n",
    "    --> Connecting Flask to a SQL database is a common task for building dynamic applications. Here's a straightforward way to do it, typically using Flask-SQLAlchemy, a popular Flask extension that simplifies working with databases."
   ]
  },
  {
   "cell_type": "markdown",
   "id": "ca6fcced-14e6-4327-a714-f063949cbc9b",
   "metadata": {},
   "source": [
    "11. What is the role of Flask-SQLAlchemy?\n",
    "    --> Flask-SQLAlchemy is a Flask extension that simplifies the integration of SQL databases with your Flask applications by providing:\n",
    "\n",
    "Key Roles of Flask-SQLAlchemy\n",
    "ORM (Object Relational Mapper):\n",
    "It provides a Pythonic way to interact with databases by mapping database tables to Python classes and rows to objects. This means you write Python code instead of raw SQL queries.\n",
    "\n",
    "Database Connection Management:\n",
    "It handles the connection to the database and manages sessions, so you don’t have to manually open and close connections.\n",
    "\n",
    "Simplifies Configuration:\n",
    "Integrates seamlessly with Flask’s configuration system, making it easy to set up database URIs and options.\n",
    "\n",
    "Convenient API for CRUD Operations:\n",
    "You can create, read, update, and delete records via Python methods (add(), commit(), query(), etc.), making database interactions cleaner and more intuitive.\n",
    "\n",
    "Supports Multiple Databases:\n",
    "Works with many popular relational databases like SQLite, PostgreSQL, MySQL, and others — you just change the connection string."
   ]
  },
  {
   "cell_type": "markdown",
   "id": "7969f6db-85f0-4b1a-8e83-14e9edb3c938",
   "metadata": {},
   "source": [
    "12. What are Flask blueprints, and how are they useful?\n",
    "    --> What are Flask Blueprints?\n",
    "Blueprints allow you to split your app into multiple parts, each with its own routes, templates, static files, and other resources.\n",
    "\n",
    "They act like mini Flask apps that can be registered on the main app.\n",
    "\n",
    "This helps keep your codebase clean, manageable, and scalable, especially for larger applications."
   ]
  },
  {
   "cell_type": "markdown",
   "id": "823e74ae-4129-4a3a-91f1-3edab9b31f7d",
   "metadata": {},
   "source": [
    "13. What is the purpose of Flask's request object?\n",
    "    --> The Flask request object represents the incoming HTTP request from the client. It gives your Flask app access to all the data sent by the client, allowing you to handle and respond accordingly."
   ]
  },
  {
   "cell_type": "markdown",
   "id": "dbda7a9f-8086-4aca-bf32-f29ece10d8a4",
   "metadata": {},
   "source": [
    "14.  How do you create a RESTful API endpoint using Flask?\n",
    "    --> Creating a RESTful API endpoint in Flask involves defining routes that respond to HTTP methods (GET, POST, etc.) and typically return data in JSON format."
   ]
  },
  {
   "cell_type": "markdown",
   "id": "a0cc40d0-573f-4ed6-8e28-7d64d142b13c",
   "metadata": {},
   "source": [
    "15. What is the purpose of Flask's jsonify() function?\n",
    "    --> The jsonify() function in Flask is used to create a JSON response from Python data structures (like dictionaries or lists).\n",
    "\n",
    "    Converts Python objects (dict, list, etc.) into JSON-formatted HTTP responses.\n",
    "\n",
    "Sets the Content-Type header to application/json.\n",
    "\n",
    "Handles encoding properly, ensuring the JSON is valid.\n",
    "\n",
    "Makes it easy to return data from your API endpoints in a format clients expect."
   ]
  },
  {
   "cell_type": "markdown",
   "id": "fe762bcd-efac-4f71-bfeb-9158114ab4c1",
   "metadata": {},
   "source": [
    "16. Explain Flask’s url_for() function.\n",
    "    --> The url_for() function in Flask is used to dynamically build URLs for your routes by using the endpoint (the function name of the route) instead of hardcoding URLs.\n",
    "\n",
    "    Generates URLs for your Flask routes based on the function name, not the URL string.\n",
    "\n",
    "Helps avoid hardcoding URLs, making your app more maintainable and flexible.\n",
    "\n",
    "Automatically handles URL building, including any dynamic parts or query parameters.\n",
    "\n",
    "Works well even if your app’s URL structure changes (you don’t have to update URLs everywhere)."
   ]
  },
  {
   "cell_type": "markdown",
   "id": "1615898a-9406-46d9-9d37-4fee5db4ed30",
   "metadata": {},
   "source": [
    "17. How does Flask handle static files (CSS, JavaScript, etc.)?\n",
    "    --> Flask handles static files (like CSS, JavaScript, images) by serving them from a special folder called static in your project directory.\n",
    "\n",
    "    Flask serves static files from the static folder at the /static/ URL path, making it easy to include CSS, JS, images, and more in your app."
   ]
  },
  {
   "cell_type": "markdown",
   "id": "c2120dd5-fd68-4b7f-bc83-022e9b81e24f",
   "metadata": {},
   "source": [
    "18. What is an API specification, and how does it help in building a Flask API?\n",
    "    --> An API specification is a formal, structured document that defines how an API works — detailing its endpoints, request/response formats, parameters, authentication, error codes, and more."
   ]
  },
  {
   "cell_type": "markdown",
   "id": "91821cf9-f300-42c7-8f3f-c2ffb22e2913",
   "metadata": {},
   "source": [
    "19. What are HTTP status codes, and why are they important in a Flask API?\n",
    "    --> HTTP status codes are standardized numerical codes sent by a server in response to a client’s HTTP request. They indicate the result or outcome of the request — whether it succeeded, failed, or requires further action."
   ]
  },
  {
   "cell_type": "markdown",
   "id": "1cb87fbf-d5d2-4ecf-a0d4-a20a67a2d954",
   "metadata": {},
   "source": [
    "20. How do you handle POST requests in Flask?\n",
    "    --> Handling POST requests in Flask involves creating a route that accepts the POST method and then accessing the data sent by the client (usually in form data or JSON)."
   ]
  },
  {
   "cell_type": "markdown",
   "id": "38f3afca-fb4b-48cb-bb1f-95f273689c21",
   "metadata": {},
   "source": [
    "21. How would you secure a Flask API?\n",
    "    --> Securing a Flask API is crucial to protect data, ensure authorized access, and prevent common web vulnerabilities.\n",
    "\n",
    "    Securing a Flask API requires a multi-layered approach — authentication, encryption, input validation, rate limiting, and careful configuration of headers and error handling."
   ]
  },
  {
   "cell_type": "markdown",
   "id": "9c52bbdb-5373-4e2c-a5d2-4a3423f06470",
   "metadata": {},
   "source": [
    "22. What is the significance of the Flask-RESTful extension?\n",
    "    --> Flask-RESTful is an extension for Flask that simplifies building REST APIs by providing tools and abstractions specifically designed for RESTful services."
   ]
  },
  {
   "cell_type": "markdown",
   "id": "834d6869-b224-4bf6-b45c-7f7bc9d488b9",
   "metadata": {},
   "source": [
    "23. What is the role of Flask’s session object?\n",
    "    --> Flask’s session object is used to store data specific to a user’s session between requests. It lets you keep user-related information (like login status, preferences, or temporary data) across multiple HTTP requests in a secure way."
   ]
  },
  {
   "cell_type": "code",
   "execution_count": 5,
   "id": "69d06565-2bd4-4a01-a4ec-e79254982beb",
   "metadata": {},
   "outputs": [
    {
     "name": "stdout",
     "output_type": "stream",
     "text": [
      " * Serving Flask app '__main__'\n",
      " * Debug mode: on\n"
     ]
    },
    {
     "name": "stderr",
     "output_type": "stream",
     "text": [
      "WARNING: This is a development server. Do not use it in a production deployment. Use a production WSGI server instead.\n",
      " * Running on http://127.0.0.1:5000\n",
      "Press CTRL+C to quit\n",
      " * Restarting with stat\n"
     ]
    },
    {
     "ename": "SystemExit",
     "evalue": "1",
     "output_type": "error",
     "traceback": [
      "An exception has occurred, use %tb to see the full traceback.\n",
      "\u001b[31mSystemExit\u001b[39m\u001b[31m:\u001b[39m 1\n"
     ]
    }
   ],
   "source": [
    "#Practical Quetions:\n",
    "#1. How do you create a basic Flask application?\n",
    "from flask import Flask\n",
    "\n",
    "app = Flask(__name__)  # Create the Flask app instance\n",
    "\n",
    "@app.route('/')  # Define the route for the root URL\n",
    "def home():\n",
    "    return \"Hello, Flask!\"\n",
    "\n",
    "if __name__ == '__main__':\n",
    "    app.run(debug=True)  # Run the app with debug mode on\n"
   ]
  },
  {
   "cell_type": "code",
   "execution_count": 6,
   "id": "b417b955-1108-44e6-9d51-80fa2e6dd821",
   "metadata": {},
   "outputs": [
    {
     "name": "stdout",
     "output_type": "stream",
     "text": [
      " * Serving Flask app '__main__'\n",
      " * Debug mode: on\n"
     ]
    },
    {
     "name": "stderr",
     "output_type": "stream",
     "text": [
      "WARNING: This is a development server. Do not use it in a production deployment. Use a production WSGI server instead.\n",
      " * Running on http://127.0.0.1:5000\n",
      "Press CTRL+C to quit\n",
      " * Restarting with stat\n"
     ]
    },
    {
     "ename": "SystemExit",
     "evalue": "1",
     "output_type": "error",
     "traceback": [
      "An exception has occurred, use %tb to see the full traceback.\n",
      "\u001b[31mSystemExit\u001b[39m\u001b[31m:\u001b[39m 1\n"
     ]
    }
   ],
   "source": [
    "#2. How do you serve static files like images or CSS in Flask?\n",
    "from flask import Flask, render_template\n",
    "\n",
    "app = Flask(__name__)\n",
    "\n",
    "@app.route('/')\n",
    "def home():\n",
    "    return '''\n",
    "        <html>\n",
    "            <head><link rel=\"stylesheet\" href=\"/static/style.css\"></head>\n",
    "            <body>\n",
    "                <h1>Hello with styles!</h1>\n",
    "                <img src=\"/static/logo.png\" alt=\"Logo\">\n",
    "            </body>\n",
    "        </html>\n",
    "    '''\n",
    "\n",
    "if __name__ == '__main__':\n",
    "    app.run(debug=True)\n"
   ]
  },
  {
   "cell_type": "code",
   "execution_count": 1,
   "id": "d69bcf9f-11a6-46b9-801b-07e48b183311",
   "metadata": {},
   "outputs": [
    {
     "name": "stdout",
     "output_type": "stream",
     "text": [
      " * Serving Flask app '__main__'\n",
      " * Debug mode: on\n"
     ]
    },
    {
     "name": "stderr",
     "output_type": "stream",
     "text": [
      "WARNING: This is a development server. Do not use it in a production deployment. Use a production WSGI server instead.\n",
      " * Running on http://127.0.0.1:5000\n",
      "Press CTRL+C to quit\n",
      " * Restarting with stat\n"
     ]
    },
    {
     "ename": "SystemExit",
     "evalue": "1",
     "output_type": "error",
     "traceback": [
      "An exception has occurred, use %tb to see the full traceback.\n",
      "\u001b[31mSystemExit\u001b[39m\u001b[31m:\u001b[39m 1\n"
     ]
    },
    {
     "name": "stderr",
     "output_type": "stream",
     "text": [
      "C:\\Users\\Pinakshi Kundu\\AppData\\Local\\Programs\\Python\\Python313\\Lib\\site-packages\\IPython\\core\\interactiveshell.py:3557: UserWarning: To exit: use 'exit', 'quit', or Ctrl-D.\n",
      "  warn(\"To exit: use 'exit', 'quit', or Ctrl-D.\", stacklevel=1)\n"
     ]
    }
   ],
   "source": [
    "#3. How do you define different routes with different HTTP methods in Flask?\n",
    "\n",
    "from flask import Flask, request, jsonify\n",
    "\n",
    "app = Flask(__name__)\n",
    "\n",
    "@app.route('/item', methods=['GET', 'POST'])\n",
    "def item():\n",
    "    if request.method == 'GET':\n",
    "        # Handle GET request\n",
    "        return jsonify({\"message\": \"This is a GET request\"})\n",
    "    elif request.method == 'POST':\n",
    "        # Handle POST request\n",
    "        data = request.get_json()\n",
    "        return jsonify({\"message\": \"Received POST data\", \"data\": data})\n",
    "\n",
    "if __name__ == '__main__':\n",
    "    app.run(debug=True)"
   ]
  },
  {
   "cell_type": "code",
   "execution_count": 5,
   "id": "f77dcad5-09dd-45df-b403-250802491e70",
   "metadata": {},
   "outputs": [
    {
     "ename": "IndentationError",
     "evalue": "unexpected indent (1600303904.py, line 3)",
     "output_type": "error",
     "traceback": [
      "  \u001b[36mCell\u001b[39m\u001b[36m \u001b[39m\u001b[32mIn[5]\u001b[39m\u001b[32m, line 3\u001b[39m\n\u001b[31m    \u001b[39m\u001b[31mapp.py\u001b[39m\n    ^\n\u001b[31mIndentationError\u001b[39m\u001b[31m:\u001b[39m unexpected indent\n"
     ]
    }
   ],
   "source": [
    "#4. How do you render HTML templates in Flask?\n",
    "/my-flask-app\n",
    "    app.py\n",
    "    /templates\n",
    "        index.html\n",
    "<!DOCTYPE html>\n",
    "<html>\n",
    "<head>\n",
    "    <title>Welcome</title>\n",
    "</head>\n",
    "<body>\n",
    "    <h1>Hello, {{ name }}!</h1>\n",
    "</body>\n",
    "</html>\n",
    "from flask import Flask, render_template\n",
    "\n",
    "app = Flask(__name__)\n",
    "\n",
    "@app.route('/')\n",
    "def home():\n",
    "    return render_template('index.html', name='Flask')\n",
    "\n",
    "if __name__ == '__main__':\n",
    "    app.run(debug=True)\n"
   ]
  },
  {
   "cell_type": "code",
   "execution_count": 4,
   "id": "1dba68ff-7aeb-4fac-ad8b-1d6310ed14df",
   "metadata": {},
   "outputs": [
    {
     "name": "stdout",
     "output_type": "stream",
     "text": [
      "/\n",
      "/profile/john\n",
      "/items?page=2&sort=name\n"
     ]
    }
   ],
   "source": [
    "#5. How can you generate URLs for routes in Flask using url_for?\n",
    "from flask import Flask, url_for\n",
    "\n",
    "app = Flask(__name__)\n",
    "\n",
    "@app.route('/')\n",
    "def index():\n",
    "    return 'This is the index page'\n",
    "\n",
    "@app.route('/profile/<username>')\n",
    "def profile(username):\n",
    "    return f'Hello, {username}!'\n",
    "\n",
    "with app.test_request_context():\n",
    "    print(url_for('index'))\n",
    "    print(url_for('profile', username='john'))\n",
    "\n",
    "@app.route('/items')\n",
    "def items():\n",
    "    return 'List of items'\n",
    "\n",
    "with app.test_request_context():\n",
    "    print(url_for('items', page=2, sort='name'))"
   ]
  },
  {
   "cell_type": "code",
   "execution_count": 6,
   "id": "a547027e-8373-40cf-a76c-e73b28c650e6",
   "metadata": {},
   "outputs": [],
   "source": [
    "#7. How can you validate form data in Flask?\n",
    "\n",
    "from flask import Flask, request, render_template, redirect, flash\n",
    "\n",
    "app = Flask(__name__)\n",
    "app.secret_key = 'secret'\n",
    "\n",
    "@app.route('/', methods=['GET', 'POST'])\n",
    "def contact():\n",
    "    if request.method == 'POST':\n",
    "        name = request.form.get('name')\n",
    "        email = request.form.get('email')\n",
    "\n",
    "        # Basic validation\n",
    "        if not name or not email:\n",
    "            flash(\"All fields are required!\")\n",
    "            return redirect('/')\n",
    "        \n",
    "        # Proceed with valid data\n",
    "        return f\"Received: {name}, {email}\"\n",
    "\n",
    "    return render_template('form.html')\n"
   ]
  },
  {
   "cell_type": "code",
   "execution_count": 7,
   "id": "5793c5c7-5918-4a3b-99e3-af52823dab08",
   "metadata": {},
   "outputs": [],
   "source": [
    "#9. How do you redirect to a different route in Flask?\n",
    "from flask import Flask, redirect, url_for\n",
    "\n",
    "app = Flask(__name__)\n",
    "\n",
    "@app.route('/')\n",
    "def home():\n",
    "    return redirect(url_for('dashboard'))\n",
    "\n",
    "@app.route('/dashboard')\n",
    "def dashboard():\n",
    "    return \"Welcome to the dashboard!\"\n",
    "@app.route('/go')\n",
    "def go():\n",
    "    return redirect(url_for('profile', username='alice'))\n",
    "\n",
    "@app.route('/profile/<username>')\n",
    "def profile(username):\n",
    "    return f\"Hello, {username}!\"\n",
    "@app.route('/login', methods=['POST'])\n",
    "def login():\n",
    "    # authentication logic...\n",
    "    return redirect(url_for('dashboard'))\n"
   ]
  },
  {
   "cell_type": "code",
   "execution_count": 8,
   "id": "41f1e6c9-bf88-4474-9c52-8879c187e548",
   "metadata": {},
   "outputs": [],
   "source": [
    "#10. How do you handle errors in Flask (e.g., 404)?\n",
    "from flask import Flask, render_template\n",
    "\n",
    "app = Flask(__name__)\n",
    "\n",
    "@app.errorhandler(404)\n",
    "def page_not_found(e):\n",
    "    return render_template('404.html'), 404\n"
   ]
  },
  {
   "cell_type": "code",
   "execution_count": 11,
   "id": "0244d7f9-1ab7-468a-b6e4-39b1fd0cae33",
   "metadata": {},
   "outputs": [
    {
     "ename": "IndentationError",
     "evalue": "unexpected indent (608896887.py, line 3)",
     "output_type": "error",
     "traceback": [
      "  \u001b[36mCell\u001b[39m\u001b[36m \u001b[39m\u001b[32mIn[11]\u001b[39m\u001b[32m, line 3\u001b[39m\n\u001b[31m    \u001b[39m\u001b[31mfrom flask import Blueprint\u001b[39m\n    ^\n\u001b[31mIndentationError\u001b[39m\u001b[31m:\u001b[39m unexpected indent\n"
     ]
    }
   ],
   "source": [
    "#11. How do you structure a Flask app using Blueprints?\n",
    "        # blueprints/auth/__init__.py\n",
    "        from flask import Blueprint\n",
    "\n",
    "        auth_bp = Blueprint('auth', __name__, template_folder='templates', static_folder='static')\n",
    "\n",
    "        from . import routes\n",
    "        # blueprints/auth/routes.py\n",
    "        from flask import render_template\n",
    "        from . import auth_bp\n",
    "\n",
    "        @auth_bp.route('/login')\n",
    "        def login():\n",
    "            return render_template('auth/login.html')\n",
    "        from flask import Flask, render_template\n",
    "        from blueprints.auth import auth_bp\n",
    "        from blueprints.blog import blog_bp\n",
    "\n",
    "        app = Flask(__name__)\n",
    "        app.register_blueprint(auth_bp, url_prefix='/auth')\n",
    "        app.register_blueprint(blog_bp, url_prefix='/blog')\n",
    "\n",
    "        @app.route('/')\n",
    "        def index():\n",
    "            return render_template('layout.html')\n",
    "\n",
    "        if __name__ == '__main__':\n",
    "            app.run(debug=True)"
   ]
  },
  {
   "cell_type": "code",
   "execution_count": 12,
   "id": "560821b3-08b3-4d2a-b0c1-28988f000455",
   "metadata": {},
   "outputs": [
    {
     "ename": "IndentationError",
     "evalue": "unexpected indent (4131190754.py, line 2)",
     "output_type": "error",
     "traceback": [
      "  \u001b[36mCell\u001b[39m\u001b[36m \u001b[39m\u001b[32mIn[12]\u001b[39m\u001b[32m, line 2\u001b[39m\n\u001b[31m    \u001b[39m\u001b[31mdef my_custom_filter(value, arg1, arg2):\u001b[39m\n    ^\n\u001b[31mIndentationError\u001b[39m\u001b[31m:\u001b[39m unexpected indent\n"
     ]
    }
   ],
   "source": [
    "#12. How do you define a custom Jinja filter in Flask?\n",
    "    def my_custom_filter(value, arg1, arg2):\n",
    "        # Filter logic here\n",
    "        return modified_value\n",
    "            from flask import Flask\n",
    "\n",
    "    app = Flask(__name__)\n",
    "\n",
    "    @app.template_filter('my_filter')\n",
    "    def my_custom_filter(value, arg1, arg2):\n",
    "        # Filter logic here\n",
    "        return modified_value\n",
    "    from flask import Flask\n",
    "\n",
    "    app = Flask(__name__)\n",
    "\n",
    "    def my_custom_filter(value, arg1, arg2):\n",
    "        # Filter logic here\n",
    "        return modified_value\n",
    "\n",
    "    app.jinja_env.filters['my_filter'] = my_custom_filter\n",
    "<p>{{ my_variable | my_filter(arg1_value, arg2_value) }}</p>\n"
   ]
  },
  {
   "cell_type": "code",
   "execution_count": 13,
   "id": "f2886fae-4aa6-4ef2-80e2-07eb6db54a94",
   "metadata": {},
   "outputs": [],
   "source": [
    "#13. How can you redirect with query parameters in Flask?\n",
    "\n",
    "from flask import Flask, redirect, url_for, request\n",
    "\n",
    "app = Flask(__name__)\n",
    "\n",
    "@app.route('/start')\n",
    "def start():\n",
    "    # Redirect to /greet with query params ?name=Alice&age=30\n",
    "    return redirect(url_for('greet', name='Alice', age=30))\n",
    "\n",
    "@app.route('/greet')\n",
    "def greet():\n",
    "    name = request.args.get('name')\n",
    "    age = request.args.get('age')\n",
    "    return f\"Hello {name}, you are {age} years old!\""
   ]
  },
  {
   "cell_type": "code",
   "execution_count": 14,
   "id": "d81f3a3d-a494-4523-a6ce-c0a59e139862",
   "metadata": {},
   "outputs": [
    {
     "ename": "SyntaxError",
     "evalue": "'return' outside function (2885761288.py, line 20)",
     "output_type": "error",
     "traceback": [
      "  \u001b[36mCell\u001b[39m\u001b[36m \u001b[39m\u001b[32mIn[14]\u001b[39m\u001b[32m, line 20\u001b[39m\n\u001b[31m    \u001b[39m\u001b[31mreturn jsonify({'error': 'Not found'}), 404\u001b[39m\n    ^\n\u001b[31mSyntaxError\u001b[39m\u001b[31m:\u001b[39m 'return' outside function\n"
     ]
    }
   ],
   "source": [
    "#14. How do you return JSON responses in Flask?\n",
    "\n",
    "from flask import Flask, jsonify\n",
    "\n",
    "app = Flask(__name__)\n",
    "\n",
    "@app.route('/api/data')\n",
    "def get_data():\n",
    "    data = {\n",
    "        'name': 'Flask',\n",
    "        'version': 2.0,\n",
    "        'status': 'success'\n",
    "    }\n",
    "    return jsonify(data)\n",
    "{\n",
    "  \"name\": \"Flask\",\n",
    "  \"version\": 2.0,\n",
    "  \"status\": \"success\"\n",
    "}\n",
    "return jsonify({'error': 'Not found'}), 404\n",
    "from flask import request\n",
    "\n",
    "@app.route('/api/echo')\n",
    "def echo():\n",
    "    user = request.args.get('user', 'Guest')\n",
    "    return jsonify({'message': f'Hello, {user}!'})"
   ]
  },
  {
   "cell_type": "code",
   "execution_count": 15,
   "id": "c5fd472f-2954-4437-870b-68a622cf9f01",
   "metadata": {},
   "outputs": [],
   "source": [
    "#15. How do you capture URL parameters in Flask?\n",
    "from flask import Flask\n",
    "\n",
    "app = Flask(__name__)\n",
    "\n",
    "@app.route('/user/<username>')\n",
    "def show_user(username):\n",
    "    return f\"User: {username}\"\n"
   ]
  },
  {
   "cell_type": "code",
   "execution_count": null,
   "id": "95365548-60b1-4d10-a2cf-3f1cfbd055f5",
   "metadata": {},
   "outputs": [],
   "source": []
  }
 ],
 "metadata": {
  "kernelspec": {
   "display_name": "Python 3 (ipykernel)",
   "language": "python",
   "name": "python3"
  },
  "language_info": {
   "codemirror_mode": {
    "name": "ipython",
    "version": 3
   },
   "file_extension": ".py",
   "mimetype": "text/x-python",
   "name": "python",
   "nbconvert_exporter": "python",
   "pygments_lexer": "ipython3",
   "version": "3.13.2"
  }
 },
 "nbformat": 4,
 "nbformat_minor": 5
}
